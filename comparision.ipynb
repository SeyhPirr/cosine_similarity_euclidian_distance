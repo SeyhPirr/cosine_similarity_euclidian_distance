{
 "cells": [
  {
   "cell_type": "markdown",
   "metadata": {},
   "source": [
    "Kosinüs Benzerliği (Cosine Similarity): Bu ölçü, vektörler arasındaki yönelimsel (angülar) benzerliği ölçer. Vektörler arasındaki açıyı değerlendirir ve bu açı ne kadar küçükse, benzerlik o kadar yüksektir. Kosinüs benzerliği, metin analizi, tavsiye sistemleri gibi alanlarda kullanılır. Özellikle, metinlerdeki belgeler arasındaki benzerlik ölçümünde sıkça kullanılır. Örneğin, belgeleri vektörleştirdikten sonra bu vektörler arasındaki benzerliği ölçmek için tercih edilebilir.\n",
    "Öklid Mesafesi (Euclidean Distance): Bu mesafe ölçüsü, vektörler arasındaki fiziksel uzaklığı ölçer. İki nokta arasındaki doğrudan mesafeyi hesaplar. Öklid mesafesi, kümeleme algoritmaları (örneğin, K-Means) veya veri madenciliğinde genel olarak kullanılır. Uzayda konumlanmış veri noktalarının arasındaki gerçek uzaklığı hesaplamak için kullanılabilir. Örneğin, bir e-ticaret sitesinde benzer ürünleri gruplamak için ürünlerin özelliklerini temsil eden vektörler arasındaki uzaklığı ölçmek için kullanılabilir."
   ]
  },
  {
   "cell_type": "code",
   "execution_count": 2,
   "metadata": {},
   "outputs": [],
   "source": [
    "import math\n",
    "A=(1,2)\n",
    "B=(3,5)\n",
    "C=(6,7)\n",
    "D=(4,5)\n",
    "#4 tane nokta tanimlayalim ve oklidyen uzakliklarini ve atadigimiz vektorler arasindaki kosinus benzerligini tanimlayalim"
   ]
  },
  {
   "cell_type": "code",
   "execution_count": 8,
   "metadata": {},
   "outputs": [],
   "source": [
    "def euclidean_distance(point_1,point_2):\n",
    "    print(\"oklidyen uzaklik:\",math.sqrt(pow((point_1[0]-point_2[0]),2)+pow((point_1[1]-point_2[1]),2)))\n",
    "    "
   ]
  },
  {
   "cell_type": "code",
   "execution_count": 9,
   "metadata": {},
   "outputs": [
    {
     "name": "stdout",
     "output_type": "stream",
     "text": [
      "oklidyen uzaklik: 3.605551275463989\n"
     ]
    }
   ],
   "source": [
    "euclidean_distance(A,B)"
   ]
  },
  {
   "cell_type": "code",
   "execution_count": 13,
   "metadata": {},
   "outputs": [
    {
     "name": "stdout",
     "output_type": "stream",
     "text": [
      "oklidyen uzaklik: 2.8284271247461903\n"
     ]
    }
   ],
   "source": [
    "euclidean_distance(C,D)"
   ]
  },
  {
   "cell_type": "code",
   "execution_count": 22,
   "metadata": {},
   "outputs": [],
   "source": [
    "import numpy as np\n",
    "vektor1 = np.array([2, 3, 5])\n",
    "vektor2 = np.array([4, 1, 7])\n",
    "# iki vektor tanimladik simdi kosinus benzerligini olcelim"
   ]
  },
  {
   "cell_type": "code",
   "execution_count": 23,
   "metadata": {},
   "outputs": [],
   "source": [
    "def cosine_similarity(vektor_1,vektor_2):\n",
    "    inner_product = np.dot(vektor_1, vektor_2)\n",
    "    norm_vektor1 = np.linalg.norm(vektor1)\n",
    "    norm_vektor2 = np.linalg.norm(vektor2)\n",
    "    cos_similarity = inner_product / (norm_vektor1 * norm_vektor2)\n",
    "    print(\"Kosinus Benzerligi:\", cos_similarity)\n"
   ]
  },
  {
   "cell_type": "code",
   "execution_count": 24,
   "metadata": {},
   "outputs": [
    {
     "name": "stdout",
     "output_type": "stream",
     "text": [
      "Kosinus Benzerligi: 0.9185315234055025\n"
     ]
    }
   ],
   "source": [
    "cosine_similarity(vektor1,vektor2)"
   ]
  }
 ],
 "metadata": {
  "kernelspec": {
   "display_name": "eyuphan",
   "language": "python",
   "name": "python3"
  },
  "language_info": {
   "codemirror_mode": {
    "name": "ipython",
    "version": 3
   },
   "file_extension": ".py",
   "mimetype": "text/x-python",
   "name": "python",
   "nbconvert_exporter": "python",
   "pygments_lexer": "ipython3",
   "version": "3.9.18"
  }
 },
 "nbformat": 4,
 "nbformat_minor": 2
}
